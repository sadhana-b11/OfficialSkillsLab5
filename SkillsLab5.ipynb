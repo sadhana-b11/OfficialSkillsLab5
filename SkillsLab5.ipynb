{
 "cells": [
  {
   "cell_type": "code",
   "execution_count": 1,
   "metadata": {},
   "outputs": [
    {
     "name": "stdin",
     "output_type": "stream",
     "text": [
      "What is your name? sadhana\n",
      "Do you usually sleep later or wake up early? Enter 1 if you sleep later and 2 if you wake up early 1\n"
     ]
    },
    {
     "name": "stdout",
     "output_type": "stream",
     "text": [
      "sadhana , you are a night owl\n"
     ]
    }
   ],
   "source": [
    "name = input(\"What is your name?\")\n",
    "typeOfPerson = input(\"Do you usually sleep later or wake up early? Enter 1 if you sleep later and 2 if you wake up early\")\n",
    "if(typeOfPerson == \"1\"):\n",
    "    (\n",
    "        print(name, \", you are a night owl\")\n",
    "    )\n",
    "elif(typeOfPerson == \"2\"):\n",
    "    (\n",
    "        print(name, \", you are a early bird\")\n",
    "    )\n",
    "else:\n",
    "    (\n",
    "        print(\"Invalid input\")\n",
    "    )"
   ]
  },
  {
   "cell_type": "code",
   "execution_count": null,
   "metadata": {},
   "outputs": [],
   "source": []
  }
 ],
 "metadata": {
  "kernelspec": {
   "display_name": "Python 3",
   "language": "python",
   "name": "python3"
  },
  "language_info": {
   "codemirror_mode": {
    "name": "ipython",
    "version": 3
   },
   "file_extension": ".py",
   "mimetype": "text/x-python",
   "name": "python",
   "nbconvert_exporter": "python",
   "pygments_lexer": "ipython3",
   "version": "3.8.3"
  }
 },
 "nbformat": 4,
 "nbformat_minor": 4
}
